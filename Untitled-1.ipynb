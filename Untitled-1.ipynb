{
 "cells": [
  {
   "cell_type": "code",
   "execution_count": 86,
   "metadata": {},
   "outputs": [],
   "source": [
    "import pandas as pd\n",
    "import numpy as np\n",
    "from scipy.io import arff\n",
    "\n",
    "data, meta = arff.loadarff('bone-marrow.arff')\n",
    "\n",
    "df = pd.DataFrame(data)\n",
    "df.replace(b\"?\", np.nan, inplace=True)\n",
    "\n",
    "#source: https://archive.ics.uci.edu/dataset/565/bone+marrow+transplant+children"
   ]
  },
  {
   "cell_type": "code",
   "execution_count": 87,
   "metadata": {},
   "outputs": [],
   "source": [
    "dataset = df['survival_time']\n",
    "y = np.zeros(187)\n",
    "for i,val in enumerate(dataset):\n",
    "    if val < 366:\n",
    "        y[i] = 1\n",
    "df['1_year_survival_status'] = list(y)"
   ]
  },
  {
   "cell_type": "code",
   "execution_count": 88,
   "metadata": {},
   "outputs": [],
   "source": [
    "int_col = ['Recipientgender', 'Stemcellsource', 'Donorage', 'Donorage35', 'IIIV',\n",
    "       'Gendermatch', 'DonorABO', 'RecipientABO', 'RecipientRh', 'ABOmatch',\n",
    "       'CMVstatus', 'DonorCMV', 'RecipientCMV', 'Riskgroup',\n",
    "       'Txpostrelapse', 'Diseasegroup', 'HLAmatch', 'HLAmismatch', 'Antigen',\n",
    "       'Alel', 'HLAgrI', 'Recipientage10', 'Recipientageint',\n",
    "       'Relapse', 'aGvHDIIIIV', 'extcGvHD', 'ANCrecovery', 'PLTrecovery',\n",
    "       'time_to_aGvHD_III_IV', 'survival_time', 'survival_status', '1_year_survival_status']\n",
    "float_col = ['Donorage', 'Recipientage', 'CD34kgx10d6', 'CD3dCD34',\n",
    "       'CD3dkgx10d8', 'Rbodymass', ]\n",
    "string_col = ['Disease']\n",
    "\n",
    "for col, t in df.dtypes.items():\n",
    "    if col in int_col:\n",
    "        df[col] = df[col].apply(lambda x: int(x) if not pd.isnull(x) else x)\n",
    "    elif col in float_col:\n",
    "        df[col] = df[col].apply(lambda x: float(x) if not pd.isnull(x) else x)\n",
    "    elif col in string_col:\n",
    "        df[col] = df[col].apply(lambda x: str(x) if not pd.isnull(x) else x)\n"
   ]
  },
  {
   "cell_type": "code",
   "execution_count": 89,
   "metadata": {},
   "outputs": [
    {
     "name": "stdout",
     "output_type": "stream",
     "text": [
      "# of rows: 187\n",
      "# of columns: 38\n"
     ]
    }
   ],
   "source": [
    "print('# of rows:', df.shape[0])\n",
    "print('# of columns:', df.shape[1])"
   ]
  },
  {
   "cell_type": "code",
   "execution_count": 90,
   "metadata": {},
   "outputs": [
    {
     "data": {
      "text/html": [
       "<div>\n",
       "<style scoped>\n",
       "    .dataframe tbody tr th:only-of-type {\n",
       "        vertical-align: middle;\n",
       "    }\n",
       "\n",
       "    .dataframe tbody tr th {\n",
       "        vertical-align: top;\n",
       "    }\n",
       "\n",
       "    .dataframe thead th {\n",
       "        text-align: right;\n",
       "    }\n",
       "</style>\n",
       "<table border=\"1\" class=\"dataframe\">\n",
       "  <thead>\n",
       "    <tr style=\"text-align: right;\">\n",
       "      <th></th>\n",
       "      <th>Recipientgender</th>\n",
       "      <th>Stemcellsource</th>\n",
       "      <th>Donorage</th>\n",
       "      <th>Donorage35</th>\n",
       "      <th>IIIV</th>\n",
       "      <th>Gendermatch</th>\n",
       "      <th>DonorABO</th>\n",
       "      <th>RecipientABO</th>\n",
       "      <th>RecipientRh</th>\n",
       "      <th>ABOmatch</th>\n",
       "      <th>CMVstatus</th>\n",
       "      <th>DonorCMV</th>\n",
       "      <th>RecipientCMV</th>\n",
       "      <th>Disease</th>\n",
       "      <th>Riskgroup</th>\n",
       "      <th>Txpostrelapse</th>\n",
       "      <th>Diseasegroup</th>\n",
       "      <th>HLAmatch</th>\n",
       "      <th>HLAmismatch</th>\n",
       "      <th>Antigen</th>\n",
       "      <th>Alel</th>\n",
       "      <th>HLAgrI</th>\n",
       "      <th>Recipientage</th>\n",
       "      <th>Recipientage10</th>\n",
       "      <th>Recipientageint</th>\n",
       "      <th>Relapse</th>\n",
       "      <th>aGvHDIIIIV</th>\n",
       "      <th>extcGvHD</th>\n",
       "      <th>CD34kgx10d6</th>\n",
       "      <th>CD3dCD34</th>\n",
       "      <th>CD3dkgx10d8</th>\n",
       "      <th>Rbodymass</th>\n",
       "      <th>ANCrecovery</th>\n",
       "      <th>PLTrecovery</th>\n",
       "      <th>time_to_aGvHD_III_IV</th>\n",
       "      <th>survival_time</th>\n",
       "      <th>survival_status</th>\n",
       "      <th>1_year_survival_status</th>\n",
       "    </tr>\n",
       "  </thead>\n",
       "  <tbody>\n",
       "    <tr>\n",
       "      <th>0</th>\n",
       "      <td>1</td>\n",
       "      <td>1</td>\n",
       "      <td>22</td>\n",
       "      <td>0</td>\n",
       "      <td>1</td>\n",
       "      <td>0</td>\n",
       "      <td>1</td>\n",
       "      <td>1.0</td>\n",
       "      <td>1.0</td>\n",
       "      <td>0.0</td>\n",
       "      <td>3.0</td>\n",
       "      <td>1.0</td>\n",
       "      <td>1.0</td>\n",
       "      <td>b'ALL'</td>\n",
       "      <td>1</td>\n",
       "      <td>0</td>\n",
       "      <td>1</td>\n",
       "      <td>0</td>\n",
       "      <td>0</td>\n",
       "      <td>-1.0</td>\n",
       "      <td>-1.0</td>\n",
       "      <td>0</td>\n",
       "      <td>9.6</td>\n",
       "      <td>0</td>\n",
       "      <td>1</td>\n",
       "      <td>0</td>\n",
       "      <td>0</td>\n",
       "      <td>1.0</td>\n",
       "      <td>7.20</td>\n",
       "      <td>1.338760</td>\n",
       "      <td>5.38</td>\n",
       "      <td>35.0</td>\n",
       "      <td>19</td>\n",
       "      <td>51</td>\n",
       "      <td>32</td>\n",
       "      <td>999</td>\n",
       "      <td>0</td>\n",
       "      <td>0</td>\n",
       "    </tr>\n",
       "    <tr>\n",
       "      <th>1</th>\n",
       "      <td>1</td>\n",
       "      <td>0</td>\n",
       "      <td>23</td>\n",
       "      <td>0</td>\n",
       "      <td>1</td>\n",
       "      <td>0</td>\n",
       "      <td>-1</td>\n",
       "      <td>-1.0</td>\n",
       "      <td>1.0</td>\n",
       "      <td>0.0</td>\n",
       "      <td>0.0</td>\n",
       "      <td>0.0</td>\n",
       "      <td>0.0</td>\n",
       "      <td>b'ALL'</td>\n",
       "      <td>0</td>\n",
       "      <td>0</td>\n",
       "      <td>1</td>\n",
       "      <td>0</td>\n",
       "      <td>0</td>\n",
       "      <td>-1.0</td>\n",
       "      <td>-1.0</td>\n",
       "      <td>0</td>\n",
       "      <td>4.0</td>\n",
       "      <td>0</td>\n",
       "      <td>0</td>\n",
       "      <td>1</td>\n",
       "      <td>1</td>\n",
       "      <td>1.0</td>\n",
       "      <td>4.50</td>\n",
       "      <td>11.078295</td>\n",
       "      <td>0.41</td>\n",
       "      <td>20.6</td>\n",
       "      <td>16</td>\n",
       "      <td>37</td>\n",
       "      <td>1000000</td>\n",
       "      <td>163</td>\n",
       "      <td>1</td>\n",
       "      <td>1</td>\n",
       "    </tr>\n",
       "    <tr>\n",
       "      <th>2</th>\n",
       "      <td>1</td>\n",
       "      <td>0</td>\n",
       "      <td>26</td>\n",
       "      <td>0</td>\n",
       "      <td>1</td>\n",
       "      <td>0</td>\n",
       "      <td>-1</td>\n",
       "      <td>-1.0</td>\n",
       "      <td>1.0</td>\n",
       "      <td>0.0</td>\n",
       "      <td>2.0</td>\n",
       "      <td>0.0</td>\n",
       "      <td>1.0</td>\n",
       "      <td>b'ALL'</td>\n",
       "      <td>0</td>\n",
       "      <td>0</td>\n",
       "      <td>1</td>\n",
       "      <td>0</td>\n",
       "      <td>0</td>\n",
       "      <td>-1.0</td>\n",
       "      <td>-1.0</td>\n",
       "      <td>0</td>\n",
       "      <td>6.6</td>\n",
       "      <td>0</td>\n",
       "      <td>1</td>\n",
       "      <td>1</td>\n",
       "      <td>1</td>\n",
       "      <td>1.0</td>\n",
       "      <td>7.94</td>\n",
       "      <td>19.013230</td>\n",
       "      <td>0.42</td>\n",
       "      <td>23.4</td>\n",
       "      <td>23</td>\n",
       "      <td>20</td>\n",
       "      <td>1000000</td>\n",
       "      <td>435</td>\n",
       "      <td>1</td>\n",
       "      <td>0</td>\n",
       "    </tr>\n",
       "    <tr>\n",
       "      <th>3</th>\n",
       "      <td>0</td>\n",
       "      <td>0</td>\n",
       "      <td>39</td>\n",
       "      <td>1</td>\n",
       "      <td>1</td>\n",
       "      <td>0</td>\n",
       "      <td>1</td>\n",
       "      <td>2.0</td>\n",
       "      <td>1.0</td>\n",
       "      <td>1.0</td>\n",
       "      <td>1.0</td>\n",
       "      <td>1.0</td>\n",
       "      <td>0.0</td>\n",
       "      <td>b'AML'</td>\n",
       "      <td>0</td>\n",
       "      <td>0</td>\n",
       "      <td>1</td>\n",
       "      <td>0</td>\n",
       "      <td>0</td>\n",
       "      <td>-1.0</td>\n",
       "      <td>-1.0</td>\n",
       "      <td>0</td>\n",
       "      <td>18.1</td>\n",
       "      <td>1</td>\n",
       "      <td>2</td>\n",
       "      <td>0</td>\n",
       "      <td>0</td>\n",
       "      <td>NaN</td>\n",
       "      <td>4.25</td>\n",
       "      <td>29.481647</td>\n",
       "      <td>0.14</td>\n",
       "      <td>50.0</td>\n",
       "      <td>23</td>\n",
       "      <td>29</td>\n",
       "      <td>19</td>\n",
       "      <td>53</td>\n",
       "      <td>1</td>\n",
       "      <td>1</td>\n",
       "    </tr>\n",
       "    <tr>\n",
       "      <th>4</th>\n",
       "      <td>0</td>\n",
       "      <td>1</td>\n",
       "      <td>33</td>\n",
       "      <td>0</td>\n",
       "      <td>0</td>\n",
       "      <td>0</td>\n",
       "      <td>1</td>\n",
       "      <td>2.0</td>\n",
       "      <td>0.0</td>\n",
       "      <td>1.0</td>\n",
       "      <td>0.0</td>\n",
       "      <td>0.0</td>\n",
       "      <td>1.0</td>\n",
       "      <td>b'chronic'</td>\n",
       "      <td>1</td>\n",
       "      <td>0</td>\n",
       "      <td>1</td>\n",
       "      <td>1</td>\n",
       "      <td>0</td>\n",
       "      <td>1.0</td>\n",
       "      <td>0.0</td>\n",
       "      <td>1</td>\n",
       "      <td>1.3</td>\n",
       "      <td>0</td>\n",
       "      <td>0</td>\n",
       "      <td>0</td>\n",
       "      <td>1</td>\n",
       "      <td>1.0</td>\n",
       "      <td>51.85</td>\n",
       "      <td>3.972255</td>\n",
       "      <td>13.05</td>\n",
       "      <td>9.0</td>\n",
       "      <td>14</td>\n",
       "      <td>14</td>\n",
       "      <td>1000000</td>\n",
       "      <td>2043</td>\n",
       "      <td>0</td>\n",
       "      <td>0</td>\n",
       "    </tr>\n",
       "    <tr>\n",
       "      <th>...</th>\n",
       "      <td>...</td>\n",
       "      <td>...</td>\n",
       "      <td>...</td>\n",
       "      <td>...</td>\n",
       "      <td>...</td>\n",
       "      <td>...</td>\n",
       "      <td>...</td>\n",
       "      <td>...</td>\n",
       "      <td>...</td>\n",
       "      <td>...</td>\n",
       "      <td>...</td>\n",
       "      <td>...</td>\n",
       "      <td>...</td>\n",
       "      <td>...</td>\n",
       "      <td>...</td>\n",
       "      <td>...</td>\n",
       "      <td>...</td>\n",
       "      <td>...</td>\n",
       "      <td>...</td>\n",
       "      <td>...</td>\n",
       "      <td>...</td>\n",
       "      <td>...</td>\n",
       "      <td>...</td>\n",
       "      <td>...</td>\n",
       "      <td>...</td>\n",
       "      <td>...</td>\n",
       "      <td>...</td>\n",
       "      <td>...</td>\n",
       "      <td>...</td>\n",
       "      <td>...</td>\n",
       "      <td>...</td>\n",
       "      <td>...</td>\n",
       "      <td>...</td>\n",
       "      <td>...</td>\n",
       "      <td>...</td>\n",
       "      <td>...</td>\n",
       "      <td>...</td>\n",
       "      <td>...</td>\n",
       "    </tr>\n",
       "    <tr>\n",
       "      <th>182</th>\n",
       "      <td>1</td>\n",
       "      <td>1</td>\n",
       "      <td>37</td>\n",
       "      <td>1</td>\n",
       "      <td>1</td>\n",
       "      <td>0</td>\n",
       "      <td>1</td>\n",
       "      <td>1.0</td>\n",
       "      <td>0.0</td>\n",
       "      <td>0.0</td>\n",
       "      <td>3.0</td>\n",
       "      <td>1.0</td>\n",
       "      <td>1.0</td>\n",
       "      <td>b'lymphoma'</td>\n",
       "      <td>1</td>\n",
       "      <td>1</td>\n",
       "      <td>1</td>\n",
       "      <td>0</td>\n",
       "      <td>0</td>\n",
       "      <td>-1.0</td>\n",
       "      <td>-1.0</td>\n",
       "      <td>0</td>\n",
       "      <td>12.9</td>\n",
       "      <td>1</td>\n",
       "      <td>2</td>\n",
       "      <td>1</td>\n",
       "      <td>0</td>\n",
       "      <td>1.0</td>\n",
       "      <td>11.08</td>\n",
       "      <td>2.522750</td>\n",
       "      <td>4.39</td>\n",
       "      <td>44.0</td>\n",
       "      <td>15</td>\n",
       "      <td>22</td>\n",
       "      <td>16</td>\n",
       "      <td>385</td>\n",
       "      <td>1</td>\n",
       "      <td>0</td>\n",
       "    </tr>\n",
       "    <tr>\n",
       "      <th>183</th>\n",
       "      <td>0</td>\n",
       "      <td>1</td>\n",
       "      <td>22</td>\n",
       "      <td>0</td>\n",
       "      <td>0</td>\n",
       "      <td>0</td>\n",
       "      <td>1</td>\n",
       "      <td>0.0</td>\n",
       "      <td>1.0</td>\n",
       "      <td>1.0</td>\n",
       "      <td>2.0</td>\n",
       "      <td>0.0</td>\n",
       "      <td>1.0</td>\n",
       "      <td>b'AML'</td>\n",
       "      <td>1</td>\n",
       "      <td>0</td>\n",
       "      <td>1</td>\n",
       "      <td>0</td>\n",
       "      <td>0</td>\n",
       "      <td>-1.0</td>\n",
       "      <td>-1.0</td>\n",
       "      <td>0</td>\n",
       "      <td>13.9</td>\n",
       "      <td>1</td>\n",
       "      <td>2</td>\n",
       "      <td>0</td>\n",
       "      <td>1</td>\n",
       "      <td>1.0</td>\n",
       "      <td>4.64</td>\n",
       "      <td>1.038858</td>\n",
       "      <td>4.47</td>\n",
       "      <td>44.5</td>\n",
       "      <td>12</td>\n",
       "      <td>30</td>\n",
       "      <td>1000000</td>\n",
       "      <td>634</td>\n",
       "      <td>1</td>\n",
       "      <td>0</td>\n",
       "    </tr>\n",
       "    <tr>\n",
       "      <th>184</th>\n",
       "      <td>0</td>\n",
       "      <td>1</td>\n",
       "      <td>27</td>\n",
       "      <td>0</td>\n",
       "      <td>1</td>\n",
       "      <td>0</td>\n",
       "      <td>1</td>\n",
       "      <td>-1.0</td>\n",
       "      <td>1.0</td>\n",
       "      <td>1.0</td>\n",
       "      <td>3.0</td>\n",
       "      <td>1.0</td>\n",
       "      <td>1.0</td>\n",
       "      <td>b'nonmalignant'</td>\n",
       "      <td>0</td>\n",
       "      <td>0</td>\n",
       "      <td>0</td>\n",
       "      <td>0</td>\n",
       "      <td>0</td>\n",
       "      <td>-1.0</td>\n",
       "      <td>-1.0</td>\n",
       "      <td>0</td>\n",
       "      <td>10.4</td>\n",
       "      <td>1</td>\n",
       "      <td>2</td>\n",
       "      <td>0</td>\n",
       "      <td>1</td>\n",
       "      <td>1.0</td>\n",
       "      <td>7.73</td>\n",
       "      <td>1.635559</td>\n",
       "      <td>4.73</td>\n",
       "      <td>33.0</td>\n",
       "      <td>16</td>\n",
       "      <td>16</td>\n",
       "      <td>1000000</td>\n",
       "      <td>1895</td>\n",
       "      <td>0</td>\n",
       "      <td>0</td>\n",
       "    </tr>\n",
       "    <tr>\n",
       "      <th>185</th>\n",
       "      <td>1</td>\n",
       "      <td>1</td>\n",
       "      <td>27</td>\n",
       "      <td>0</td>\n",
       "      <td>1</td>\n",
       "      <td>0</td>\n",
       "      <td>1</td>\n",
       "      <td>0.0</td>\n",
       "      <td>1.0</td>\n",
       "      <td>1.0</td>\n",
       "      <td>0.0</td>\n",
       "      <td>0.0</td>\n",
       "      <td>0.0</td>\n",
       "      <td>b'chronic'</td>\n",
       "      <td>0</td>\n",
       "      <td>0</td>\n",
       "      <td>1</td>\n",
       "      <td>1</td>\n",
       "      <td>0</td>\n",
       "      <td>1.0</td>\n",
       "      <td>0.0</td>\n",
       "      <td>1</td>\n",
       "      <td>8.0</td>\n",
       "      <td>0</td>\n",
       "      <td>1</td>\n",
       "      <td>0</td>\n",
       "      <td>0</td>\n",
       "      <td>0.0</td>\n",
       "      <td>15.41</td>\n",
       "      <td>8.077770</td>\n",
       "      <td>1.91</td>\n",
       "      <td>24.0</td>\n",
       "      <td>13</td>\n",
       "      <td>14</td>\n",
       "      <td>54</td>\n",
       "      <td>382</td>\n",
       "      <td>1</td>\n",
       "      <td>0</td>\n",
       "    </tr>\n",
       "    <tr>\n",
       "      <th>186</th>\n",
       "      <td>1</td>\n",
       "      <td>1</td>\n",
       "      <td>55</td>\n",
       "      <td>1</td>\n",
       "      <td>1</td>\n",
       "      <td>0</td>\n",
       "      <td>1</td>\n",
       "      <td>2.0</td>\n",
       "      <td>1.0</td>\n",
       "      <td>1.0</td>\n",
       "      <td>1.0</td>\n",
       "      <td>1.0</td>\n",
       "      <td>0.0</td>\n",
       "      <td>b'nonmalignant'</td>\n",
       "      <td>1</td>\n",
       "      <td>1</td>\n",
       "      <td>0</td>\n",
       "      <td>0</td>\n",
       "      <td>0</td>\n",
       "      <td>NaN</td>\n",
       "      <td>NaN</td>\n",
       "      <td>0</td>\n",
       "      <td>9.5</td>\n",
       "      <td>0</td>\n",
       "      <td>1</td>\n",
       "      <td>0</td>\n",
       "      <td>1</td>\n",
       "      <td>1.0</td>\n",
       "      <td>9.91</td>\n",
       "      <td>0.948135</td>\n",
       "      <td>10.45</td>\n",
       "      <td>37.0</td>\n",
       "      <td>18</td>\n",
       "      <td>20</td>\n",
       "      <td>1000000</td>\n",
       "      <td>1109</td>\n",
       "      <td>0</td>\n",
       "      <td>0</td>\n",
       "    </tr>\n",
       "  </tbody>\n",
       "</table>\n",
       "<p>187 rows × 38 columns</p>\n",
       "</div>"
      ],
      "text/plain": [
       "     Recipientgender  Stemcellsource  Donorage  Donorage35  IIIV  Gendermatch  \\\n",
       "0                  1               1        22           0     1            0   \n",
       "1                  1               0        23           0     1            0   \n",
       "2                  1               0        26           0     1            0   \n",
       "3                  0               0        39           1     1            0   \n",
       "4                  0               1        33           0     0            0   \n",
       "..               ...             ...       ...         ...   ...          ...   \n",
       "182                1               1        37           1     1            0   \n",
       "183                0               1        22           0     0            0   \n",
       "184                0               1        27           0     1            0   \n",
       "185                1               1        27           0     1            0   \n",
       "186                1               1        55           1     1            0   \n",
       "\n",
       "     DonorABO  RecipientABO  RecipientRh  ABOmatch  CMVstatus  DonorCMV  \\\n",
       "0           1           1.0          1.0       0.0        3.0       1.0   \n",
       "1          -1          -1.0          1.0       0.0        0.0       0.0   \n",
       "2          -1          -1.0          1.0       0.0        2.0       0.0   \n",
       "3           1           2.0          1.0       1.0        1.0       1.0   \n",
       "4           1           2.0          0.0       1.0        0.0       0.0   \n",
       "..        ...           ...          ...       ...        ...       ...   \n",
       "182         1           1.0          0.0       0.0        3.0       1.0   \n",
       "183         1           0.0          1.0       1.0        2.0       0.0   \n",
       "184         1          -1.0          1.0       1.0        3.0       1.0   \n",
       "185         1           0.0          1.0       1.0        0.0       0.0   \n",
       "186         1           2.0          1.0       1.0        1.0       1.0   \n",
       "\n",
       "     RecipientCMV          Disease  Riskgroup  Txpostrelapse  Diseasegroup  \\\n",
       "0             1.0           b'ALL'          1              0             1   \n",
       "1             0.0           b'ALL'          0              0             1   \n",
       "2             1.0           b'ALL'          0              0             1   \n",
       "3             0.0           b'AML'          0              0             1   \n",
       "4             1.0       b'chronic'          1              0             1   \n",
       "..            ...              ...        ...            ...           ...   \n",
       "182           1.0      b'lymphoma'          1              1             1   \n",
       "183           1.0           b'AML'          1              0             1   \n",
       "184           1.0  b'nonmalignant'          0              0             0   \n",
       "185           0.0       b'chronic'          0              0             1   \n",
       "186           0.0  b'nonmalignant'          1              1             0   \n",
       "\n",
       "     HLAmatch  HLAmismatch  Antigen  Alel  HLAgrI  Recipientage  \\\n",
       "0           0            0     -1.0  -1.0       0           9.6   \n",
       "1           0            0     -1.0  -1.0       0           4.0   \n",
       "2           0            0     -1.0  -1.0       0           6.6   \n",
       "3           0            0     -1.0  -1.0       0          18.1   \n",
       "4           1            0      1.0   0.0       1           1.3   \n",
       "..        ...          ...      ...   ...     ...           ...   \n",
       "182         0            0     -1.0  -1.0       0          12.9   \n",
       "183         0            0     -1.0  -1.0       0          13.9   \n",
       "184         0            0     -1.0  -1.0       0          10.4   \n",
       "185         1            0      1.0   0.0       1           8.0   \n",
       "186         0            0      NaN   NaN       0           9.5   \n",
       "\n",
       "     Recipientage10  Recipientageint  Relapse  aGvHDIIIIV  extcGvHD  \\\n",
       "0                 0                1        0           0       1.0   \n",
       "1                 0                0        1           1       1.0   \n",
       "2                 0                1        1           1       1.0   \n",
       "3                 1                2        0           0       NaN   \n",
       "4                 0                0        0           1       1.0   \n",
       "..              ...              ...      ...         ...       ...   \n",
       "182               1                2        1           0       1.0   \n",
       "183               1                2        0           1       1.0   \n",
       "184               1                2        0           1       1.0   \n",
       "185               0                1        0           0       0.0   \n",
       "186               0                1        0           1       1.0   \n",
       "\n",
       "     CD34kgx10d6   CD3dCD34  CD3dkgx10d8  Rbodymass  ANCrecovery  PLTrecovery  \\\n",
       "0           7.20   1.338760         5.38       35.0           19           51   \n",
       "1           4.50  11.078295         0.41       20.6           16           37   \n",
       "2           7.94  19.013230         0.42       23.4           23           20   \n",
       "3           4.25  29.481647         0.14       50.0           23           29   \n",
       "4          51.85   3.972255        13.05        9.0           14           14   \n",
       "..           ...        ...          ...        ...          ...          ...   \n",
       "182        11.08   2.522750         4.39       44.0           15           22   \n",
       "183         4.64   1.038858         4.47       44.5           12           30   \n",
       "184         7.73   1.635559         4.73       33.0           16           16   \n",
       "185        15.41   8.077770         1.91       24.0           13           14   \n",
       "186         9.91   0.948135        10.45       37.0           18           20   \n",
       "\n",
       "     time_to_aGvHD_III_IV  survival_time  survival_status  \\\n",
       "0                      32            999                0   \n",
       "1                 1000000            163                1   \n",
       "2                 1000000            435                1   \n",
       "3                      19             53                1   \n",
       "4                 1000000           2043                0   \n",
       "..                    ...            ...              ...   \n",
       "182                    16            385                1   \n",
       "183               1000000            634                1   \n",
       "184               1000000           1895                0   \n",
       "185                    54            382                1   \n",
       "186               1000000           1109                0   \n",
       "\n",
       "     1_year_survival_status  \n",
       "0                         0  \n",
       "1                         1  \n",
       "2                         0  \n",
       "3                         1  \n",
       "4                         0  \n",
       "..                      ...  \n",
       "182                       0  \n",
       "183                       0  \n",
       "184                       0  \n",
       "185                       0  \n",
       "186                       0  \n",
       "\n",
       "[187 rows x 38 columns]"
      ]
     },
     "execution_count": 90,
     "metadata": {},
     "output_type": "execute_result"
    }
   ],
   "source": [
    "df"
   ]
  },
  {
   "cell_type": "code",
   "execution_count": 91,
   "metadata": {},
   "outputs": [],
   "source": [
    "X = df.drop(labels=['survival_status', 'survival_time'], axis=1)\n",
    "y = df['1_year_survival_status']"
   ]
  },
  {
   "cell_type": "code",
   "execution_count": 92,
   "metadata": {},
   "outputs": [],
   "source": [
    "pd.set_option('display.max_columns', 500)\n",
    "pd.set_option('display.max_rows', 500)\n"
   ]
  },
  {
   "cell_type": "code",
   "execution_count": 93,
   "metadata": {},
   "outputs": [
    {
     "name": "stdout",
     "output_type": "stream",
     "text": [
      "data dimensions: (187, 38)\n",
      "fraction of missing values in features:\n",
      "RecipientABO    0.005348\n",
      "RecipientRh     0.010695\n",
      "ABOmatch        0.005348\n",
      "CMVstatus       0.085561\n",
      "DonorCMV        0.010695\n",
      "RecipientCMV    0.074866\n",
      "Antigen         0.005348\n",
      "Alel            0.005348\n",
      "extcGvHD        0.165775\n",
      "CD3dCD34        0.026738\n",
      "CD3dkgx10d8     0.026738\n",
      "Rbodymass       0.010695\n",
      "dtype: float64\n",
      "data types of the features with missing values:\n",
      "RecipientABO    float64\n",
      "RecipientRh     float64\n",
      "ABOmatch        float64\n",
      "CMVstatus       float64\n",
      "DonorCMV        float64\n",
      "RecipientCMV    float64\n",
      "Antigen         float64\n",
      "Alel            float64\n",
      "extcGvHD        float64\n",
      "CD3dCD34        float64\n",
      "CD3dkgx10d8     float64\n",
      "Rbodymass       float64\n",
      "dtype: object\n",
      "fraction of points with missing values: 0.24064171122994651\n"
     ]
    }
   ],
   "source": [
    "print('data dimensions:',df.shape)\n",
    "perc_missing_per_ftr = df.isnull().sum(axis=0)/df.shape[0]\n",
    "print('fraction of missing values in features:')\n",
    "print(perc_missing_per_ftr[perc_missing_per_ftr > 0])\n",
    "print('data types of the features with missing values:')\n",
    "print(df[perc_missing_per_ftr[perc_missing_per_ftr > 0].index].dtypes)\n",
    "frac_missing = sum(df.isnull().sum(axis=1)!=0)/df.shape[0]\n",
    "print('fraction of points with missing values:',frac_missing)"
   ]
  },
  {
   "cell_type": "markdown",
   "metadata": {},
   "source": [
    "print(df.shape)\n",
    "df = df.dropna(axis=0)\n",
    "print(df_r.shape)"
   ]
  },
  {
   "cell_type": "code",
   "execution_count": 94,
   "metadata": {},
   "outputs": [
    {
     "name": "stdout",
     "output_type": "stream",
     "text": [
      "# of rows: 187\n",
      "# of columns: 38\n"
     ]
    }
   ],
   "source": [
    "print('# of rows:', df.shape[0])\n",
    "print('# of columns:', df.shape[1])"
   ]
  },
  {
   "cell_type": "code",
   "execution_count": 95,
   "metadata": {},
   "outputs": [
    {
     "name": "stdout",
     "output_type": "stream",
     "text": [
      "1_year_survival_status\n",
      "0    121\n",
      "1     66\n",
      "Name: count, dtype: int64\n"
     ]
    }
   ],
   "source": [
    "print(y.value_counts())"
   ]
  },
  {
   "cell_type": "code",
   "execution_count": 96,
   "metadata": {},
   "outputs": [],
   "source": [
    "pd.set_option('display.max_rows', 100)\n",
    "dataset = df[y == 0]['survival_time'].value_counts()\n",
    "#dataset.sort_index()"
   ]
  },
  {
   "cell_type": "code",
   "execution_count": 97,
   "metadata": {},
   "outputs": [
    {
     "data": {
      "text/plain": [
       "Index(['Recipientgender', 'Stemcellsource', 'Donorage', 'Donorage35', 'IIIV',\n",
       "       'Gendermatch', 'DonorABO', 'RecipientABO', 'RecipientRh', 'ABOmatch',\n",
       "       'CMVstatus', 'DonorCMV', 'RecipientCMV', 'Disease', 'Riskgroup',\n",
       "       'Txpostrelapse', 'Diseasegroup', 'HLAmatch', 'HLAmismatch', 'Antigen',\n",
       "       'Alel', 'HLAgrI', 'Recipientage', 'Recipientage10', 'Recipientageint',\n",
       "       'Relapse', 'aGvHDIIIIV', 'extcGvHD', 'CD34kgx10d6', 'CD3dCD34',\n",
       "       'CD3dkgx10d8', 'Rbodymass', 'ANCrecovery', 'PLTrecovery',\n",
       "       'time_to_aGvHD_III_IV', 'survival_time', 'survival_status',\n",
       "       '1_year_survival_status'],\n",
       "      dtype='object')"
      ]
     },
     "execution_count": 97,
     "metadata": {},
     "output_type": "execute_result"
    }
   ],
   "source": [
    "df.columns"
   ]
  },
  {
   "cell_type": "code",
   "execution_count": 98,
   "metadata": {},
   "outputs": [
    {
     "name": "stdout",
     "output_type": "stream",
     "text": [
      "1_year_survival_status    0   1\n",
      "extcGvHD                       \n",
      "0.0                      17  11\n",
      "1.0                     104  24\n",
      "1_year_survival_status         0         1\n",
      "extcGvHD                                  \n",
      "0.0                     0.607143  0.392857\n",
      "1.0                     0.812500  0.187500\n"
     ]
    },
    {
     "data": {
      "image/png": "[encoded data removed]",
      "text/plain": [
       "<Figure size 500x300 with 1 Axes>"
      ]
     },
     "metadata": {},
     "output_type": "display_data"
    }
   ],
   "source": [
    "import numpy as np\n",
    "from matplotlib import pylab as plt\n",
    "\n",
    "y1 = ['CMVstatus', 'HLAmatch', 'Antigen', 'Alel', 'HLAgrI', 'Recipientageint', \n",
    "      'Recipientgender', 'Stemcellsource', 'Donorage35', 'IIIV',\n",
    "       'Gendermatch', 'DonorABO', 'RecipientABO', 'RecipientRh', 'ABOmatch',\n",
    "       'DonorCMV', 'RecipientCMV', 'Disease', 'Riskgroup',\n",
    "       'Txpostrelapse', 'Diseasegroup', 'HLAmismatch', 'Recipientage10',\n",
    "       'Relapse', 'aGvHDIIIIV', 'extcGvHD']\n",
    "\n",
    "count_matrix = df.groupby(['extcGvHD','1_year_survival_status']).size().unstack()\n",
    "print(count_matrix)\n",
    "\n",
    "count_matrix_norm = count_matrix.div(count_matrix.sum(axis=1),axis=0)\n",
    "print(count_matrix_norm)\n",
    "\n",
    "count_matrix_norm.plot(kind='bar', stacked=True,figsize=(5,3), alpha = 0.5)\n",
    "plt.ylabel('Fraction')\n",
    "plt.xlabel('ext c GvHD')\n",
    "plt.xticks([0,1], ['Yes', 'No'])\n",
    "plt.legend(['alive', 'dead'], loc=4)\n",
    "plt.show()\n",
    "\n"
   ]
  },
  {
   "cell_type": "markdown",
   "metadata": {},
   "source": [
    "from matplotlib import pylab as plt\n",
    "\n",
    "dataset = [df[y == 0]['PLTrecovery'].values,           \n",
    "           df[y == 1 ]['PLTrecovery'].values]\n",
    "plt.figure(figsize=(5,3))\n",
    "plt.violinplot(dataset = dataset)\n",
    "plt.xticks([1,2],['0', '1'])\n",
    "plt.ylabel('PLTrecovery')\n",
    "plt.show()\n",
    "make sure there are three visualization types\n",
    "\n"
   ]
  },
  {
   "cell_type": "code",
   "execution_count": 99,
   "metadata": {},
   "outputs": [
    {
     "name": "stdout",
     "output_type": "stream",
     "text": [
      "1_year_survival_status   0   1\n",
      "RecipientCMV                  \n",
      "0.0                     49  24\n",
      "1.0                     66  34\n",
      "1_year_survival_status         0         1\n",
      "RecipientCMV                              \n",
      "0.0                     0.671233  0.328767\n",
      "1.0                     0.660000  0.340000\n"
     ]
    },
    {
     "data": {
      "image/png": "[encoded data removed]",
      "text/plain": [
       "<Figure size 500x300 with 1 Axes>"
      ]
     },
     "metadata": {},
     "output_type": "display_data"
    }
   ],
   "source": [
    "import numpy as np\n",
    "from matplotlib import pylab as plt\n",
    "\n",
    "count_matrix = df.groupby(['RecipientCMV','1_year_survival_status']).size().unstack()\n",
    "print(count_matrix)\n",
    "\n",
    "count_matrix_norm = count_matrix.div(count_matrix.sum(axis=1),axis=0)\n",
    "print(count_matrix_norm)\n",
    "\n",
    "count_matrix_norm.plot(kind='bar', stacked=True,figsize=(5,3))\n",
    "plt.ylabel('fraction of people in group')\n",
    "plt.legend(loc=4)\n",
    "plt.show()"
   ]
  },
  {
   "cell_type": "code",
   "execution_count": 100,
   "metadata": {},
   "outputs": [
    {
     "data": {
      "image/png": "[encoded data removed]",
      "text/plain": [
       "<Figure size 500x300 with 1 Axes>"
      ]
     },
     "metadata": {},
     "output_type": "display_data"
    }
   ],
   "source": [
    "y2 = ['Donorage','Recipientage', 'CD34kgx10d6', 'CD3dCD34', 'CD3dkgx10d8', \n",
    "      'Rbodymass', 'ANCrecovery', 'PLTrecovery',\n",
    "       'time_to_aGvHD_III_IV', 'survival_time']\n",
    "\n",
    "df[['Recipientage','1_year_survival_status']].boxplot(by='1_year_survival_status', figsize=(5,3))\n",
    "plt.ylabel('Recipient Age')\n",
    "plt.xlabel('1-year Survival Status')\n",
    "plt.xticks([1,2],['alive', 'dead'])\n",
    "plt.title(\"\")\n",
    "plt.suptitle('')\n",
    "plt.show()"
   ]
  },
  {
   "cell_type": "code",
   "execution_count": 101,
   "metadata": {},
   "outputs": [
    {
     "data": {
      "image/png": "[encoded data removed]",
      "text/plain": [
       "<Figure size 1200x300 with 1 Axes>"
      ]
     },
     "metadata": {},
     "output_type": "display_data"
    }
   ],
   "source": [
    "bin_range = (df['survival_time'].min(),df['survival_time'].max())\n",
    "\n",
    "plt.figure(figsize=(12,3))\n",
    "\n",
    "for c in [0,1]:\n",
    "    plt.hist(df[df['survival_status']==c]['survival_time'],alpha=0.5,label=c,range=bin_range,bins=60)\n",
    "plt.legend(['alive', 'dead'], fontsize=16)\n",
    "plt.ylabel('Count', fontsize=16)\n",
    "plt.xlabel('Survival time (Days)', fontsize=16)\n",
    "plt.title('Survival Time Distribution',fontsize=16)\n",
    "plt.xticks(fontsize=14)\n",
    "plt.yticks(fontsize=14)\n",
    "plt.style.use('dark_background')\n",
    "plt.show()"
   ]
  },
  {
   "cell_type": "code",
   "execution_count": 102,
   "metadata": {},
   "outputs": [
    {
     "data": {
      "text/plain": [
       "1_year_survival_status\n",
       "0    121\n",
       "1     66\n",
       "Name: count, dtype: int64"
      ]
     },
     "execution_count": 102,
     "metadata": {},
     "output_type": "execute_result"
    }
   ],
   "source": [
    "y.value_counts()"
   ]
  },
  {
   "cell_type": "code",
   "execution_count": 103,
   "metadata": {},
   "outputs": [
    {
     "data": {
      "image/png": "[encoded data removed]",
      "text/plain": [
       "<Figure size 500x300 with 1 Axes>"
      ]
     },
     "metadata": {},
     "output_type": "display_data"
    }
   ],
   "source": [
    "plt.figure(figsize=(5,3))\n",
    "\n",
    "y.value_counts().reindex([0,1]).plot.barh(color=\"#ffb780\")\n",
    "plt.xlabel('count')\n",
    "plt.ylabel('Status')\n",
    "plt.title('1-year Survival Status Value Count')\n",
    "plt.tight_layout()\n",
    "plt.yticks([0,1], ['alive', 'dead'])\n",
    "plt.show()"
   ]
  },
  {
   "cell_type": "code",
   "execution_count": 104,
   "metadata": {},
   "outputs": [
    {
     "data": {
      "image/png": "[encoded data removed]",
      "text/plain": [
       "<Figure size 800x400 with 1 Axes>"
      ]
     },
     "metadata": {},
     "output_type": "display_data"
    }
   ],
   "source": [
    "plt.figure(figsize=(8,4))\n",
    "dataset = df[y == 1]['Donorage'].values\n",
    "\n",
    "plt.hist(dataset, bins = int(np.sqrt(df.shape[0])), color=\"#ffb780\")\n",
    "plt.xlabel('days', fontsize=20)\n",
    "plt.ylabel('Count', fontsize=20)\n",
    "plt.title('Survival Time (Dead) Distribution', fontsize=20)\n",
    "plt.show()"
   ]
  },
  {
   "cell_type": "code",
   "execution_count": 105,
   "metadata": {},
   "outputs": [
    {
     "data": {
      "text/plain": [
       "time_to_aGvHD_III_IV\n",
       "1000000    145\n",
       "18           4\n",
       "21           4\n",
       "14           4\n",
       "19           3\n",
       "11           2\n",
       "16           2\n",
       "100          2\n",
       "15           2\n",
       "42           1\n",
       "33           1\n",
       "34           1\n",
       "10           1\n",
       "27           1\n",
       "51           1\n",
       "17           1\n",
       "55           1\n",
       "32           1\n",
       "58           1\n",
       "99           1\n",
       "26           1\n",
       "24           1\n",
       "49           1\n",
       "62           1\n",
       "36           1\n",
       "20           1\n",
       "22           1\n",
       "54           1\n",
       "Name: count, dtype: int64"
      ]
     },
     "execution_count": 105,
     "metadata": {},
     "output_type": "execute_result"
    }
   ],
   "source": [
    "df['time_to_aGvHD_III_IV'].value_counts()"
   ]
  },
  {
   "cell_type": "code",
   "execution_count": 106,
   "metadata": {},
   "outputs": [
    {
     "data": {
      "text/plain": [
       "aGvHDIIIIV\n",
       "1    147\n",
       "0     40\n",
       "Name: count, dtype: int64"
      ]
     },
     "execution_count": 106,
     "metadata": {},
     "output_type": "execute_result"
    }
   ],
   "source": [
    "df['aGvHDIIIIV'].value_counts()"
   ]
  },
  {
   "cell_type": "code",
   "execution_count": 107,
   "metadata": {},
   "outputs": [
    {
     "data": {
      "image/png": "[encoded data removed]",
      "text/plain": [
       "<Figure size 800x400 with 1 Axes>"
      ]
     },
     "metadata": {},
     "output_type": "display_data"
    }
   ],
   "source": [
    "import numpy as np\n",
    "import matplotlib\n",
    "from matplotlib import pylab as plt\n",
    "\n",
    "plt.figure(figsize=(8,4))\n",
    "dataset = df[y == 1]['survival_time'].values\n",
    "\n",
    "plt.hist(dataset, bins = int(np.sqrt(df.shape[0])), color=\"#ffb780\")\n",
    "plt.xlabel('days', fontsize=20)\n",
    "plt.ylabel('Count', fontsize=20)\n",
    "plt.title('Survival Time (Dead) Distribution', fontsize=20)\n",
    "plt.show()"
   ]
  },
  {
   "cell_type": "code",
   "execution_count": 108,
   "metadata": {},
   "outputs": [
    {
     "data": {
      "image/png": "[encoded data removed]",
      "text/plain": [
       "<Figure size 800x400 with 1 Axes>"
      ]
     },
     "metadata": {},
     "output_type": "display_data"
    }
   ],
   "source": [
    "import numpy as np\n",
    "import matplotlib\n",
    "from matplotlib import pylab as plt\n",
    "\n",
    "plt.figure(figsize=(8,4))\n",
    "dataset = df[y == 0]['survival_time'].values\n",
    "\n",
    "plt.hist(dataset, bins = int(np.sqrt(df.shape[0])), color=\"#ffb780\")\n",
    "plt.xlabel('days', fontsize=20)\n",
    "plt.ylabel('Count', fontsize=20)\n",
    "plt.title('Survival Time (Alive) Distribution', fontsize=20)\n",
    "plt.show()"
   ]
  },
  {
   "cell_type": "code",
   "execution_count": 109,
   "metadata": {},
   "outputs": [
    {
     "data": {
      "text/plain": [
       "0.0      6.0\n",
       "0.1     28.0\n",
       "0.2     42.0\n",
       "0.3     56.5\n",
       "0.4     64.0\n",
       "0.5    105.0\n",
       "0.6    136.0\n",
       "0.7    162.0\n",
       "0.8    200.0\n",
       "0.9    267.5\n",
       "Name: survival_time, dtype: float64"
      ]
     },
     "execution_count": 109,
     "metadata": {},
     "output_type": "execute_result"
    }
   ],
   "source": [
    "df[y == 1]['survival_time'].quantile(np.arange(0, 1, 0.1))"
   ]
  },
  {
   "cell_type": "code",
   "execution_count": 110,
   "metadata": {},
   "outputs": [
    {
     "data": {
      "text/plain": [
       "1      163\n",
       "3       53\n",
       "6       41\n",
       "7       45\n",
       "13     335\n",
       "16      58\n",
       "20     115\n",
       "21     330\n",
       "23     149\n",
       "27      35\n",
       "32      96\n",
       "35     321\n",
       "36     111\n",
       "37     149\n",
       "41      28\n",
       "43      60\n",
       "45     150\n",
       "57     137\n",
       "58      11\n",
       "60     261\n",
       "61     181\n",
       "63      19\n",
       "65      55\n",
       "66     224\n",
       "68     306\n",
       "73      66\n",
       "76     102\n",
       "77     113\n",
       "80     200\n",
       "81      26\n",
       "82      60\n",
       "84      60\n",
       "89     202\n",
       "91     136\n",
       "93     161\n",
       "97      67\n",
       "98     191\n",
       "99     130\n",
       "102     56\n",
       "106     68\n",
       "108    274\n",
       "109     28\n",
       "114     57\n",
       "118    236\n",
       "121     48\n",
       "123    117\n",
       "125    290\n",
       "128    108\n",
       "129    196\n",
       "131     10\n",
       "135    182\n",
       "137     15\n",
       "138     48\n",
       "139     41\n",
       "140     42\n",
       "146    214\n",
       "149     59\n",
       "150     64\n",
       "153     90\n",
       "154    246\n",
       "160    353\n",
       "163    174\n",
       "171    147\n",
       "172     31\n",
       "180     41\n",
       "181      6\n",
       "Name: survival_time, dtype: int64"
      ]
     },
     "execution_count": 110,
     "metadata": {},
     "output_type": "execute_result"
    }
   ],
   "source": [
    "df[y == 1]['survival_time']"
   ]
  },
  {
   "cell_type": "code",
   "execution_count": 111,
   "metadata": {},
   "outputs": [
    {
     "name": "stdout",
     "output_type": "stream",
     "text": [
      "training set: (112, 36) (112,)\n",
      "validation set: (37, 36) (37,)\n",
      "test set: (38, 36) (38,)\n"
     ]
    }
   ],
   "source": [
    "from sklearn.model_selection import train_test_split \n",
    "\n",
    "def basic_split(X,y,train_size, val_size, test_size, random_state):\n",
    "    from sklearn.model_selection import train_test_split\n",
    "    import numpy as np \n",
    "    if train_size + test_size + val_size != 1:\n",
    "        print(\"The size of train set, valuation set, and test sets are wrong.\")\n",
    "    elif random_state.is_integer() == False:\n",
    "        print(\"The random state input is wrong.\")\n",
    "    else:\n",
    "        X_train, X_other, y_train, y_other = train_test_split(X,y,train_size = train_size,random_state = random_state)\n",
    "        actual_test_size = test_size/(1-train_size)\n",
    "        X_val, X_test, y_val, y_test = train_test_split(X_other,y_other, test_size = actual_test_size,random_state = random_state)\n",
    "        if np.isclose(X_val.shape[0]/X.shape[0], val_size, rtol=0.03) and np.isclose(X_train.shape[0]/X.shape[0], train_size, rtol=0.03) and np.isclose(X_test.shape[0]/X.shape[0], test_size, rtol=0.03):\n",
    "            print('training set:',X_train.shape, y_train.shape) \n",
    "            print('validation set:', X_val.shape, y_val.shape) \n",
    "            print('test set:', X_test.shape, y_test.shape) \n",
    "            return X_val, X_test, X_train\n",
    "        else:\n",
    "            print('Error: The data can not be splitted using this function.')\n",
    "            print(f\"validation: {X_val.shape[0]/X.shape[0]}, {val_size}\")\n",
    "            print(f\"train {X_train.shape[0]/X.shape[0]}, {train_size}\")\n",
    "            print(f\"test: {X_test.shape[0]/X.shape[0]}, {test_size}\")\n",
    "\n",
    "\n",
    "\n",
    "X_val, X_test, X_train = basic_split(X, y, train_size=0.6, val_size=0.2, test_size=0.2, random_state=42)"
   ]
  },
  {
   "cell_type": "code",
   "execution_count": 112,
   "metadata": {},
   "outputs": [
    {
     "data": {
      "text/plain": [
       "Index(['Recipientgender', 'Stemcellsource', 'Donorage', 'Donorage35', 'IIIV',\n",
       "       'Gendermatch', 'DonorABO', 'RecipientABO', 'RecipientRh', 'ABOmatch',\n",
       "       'CMVstatus', 'DonorCMV', 'RecipientCMV', 'Disease', 'Riskgroup',\n",
       "       'Txpostrelapse', 'Diseasegroup', 'HLAmatch', 'HLAmismatch', 'Antigen',\n",
       "       'Alel', 'HLAgrI', 'Recipientage', 'Recipientage10', 'Recipientageint',\n",
       "       'Relapse', 'aGvHDIIIIV', 'extcGvHD', 'CD34kgx10d6', 'CD3dCD34',\n",
       "       'CD3dkgx10d8', 'Rbodymass', 'ANCrecovery', 'PLTrecovery',\n",
       "       'time_to_aGvHD_III_IV', 'survival_time', 'survival_status',\n",
       "       '1_year_survival_status'],\n",
       "      dtype='object')"
      ]
     },
     "execution_count": 112,
     "metadata": {},
     "output_type": "execute_result"
    }
   ],
   "source": [
    "df.columns"
   ]
  },
  {
   "cell_type": "code",
   "execution_count": 113,
   "metadata": {},
   "outputs": [
    {
     "data": {
      "text/plain": [
       "Recipientageint\n",
       "2    89\n",
       "1    51\n",
       "0    47\n",
       "Name: count, dtype: int64"
      ]
     },
     "execution_count": 113,
     "metadata": {},
     "output_type": "execute_result"
    }
   ],
   "source": [
    "df['Recipientageint'].value_counts()"
   ]
  },
  {
   "cell_type": "code",
   "execution_count": 116,
   "metadata": {},
   "outputs": [
    {
     "name": "stdout",
     "output_type": "stream",
     "text": [
      "(112, 36)\n",
      "(112, 63)\n",
      "[[ 1.          0.          0.         ... -0.19245318 -0.37796598\n",
      "   0.57735027]\n",
      " [ 1.          0.          0.         ... -0.19244241 -0.37797505\n",
      "  -1.73207563]\n",
      " [ 0.          1.          0.         ... -0.19244779  2.6457513\n",
      "  -1.73208025]\n",
      " ...\n",
      " [ 1.          0.          0.         ... -0.19248552 -0.37803251\n",
      "   0.57735027]\n",
      " [ 0.          1.          1.         ... -0.19244779 -0.37776036\n",
      "   0.57735027]\n",
      " [ 1.          0.          0.         ... -0.19246396 -0.3779811\n",
      "   0.57735027]]\n"
     ]
    }
   ],
   "source": [
    "from sklearn.compose import ColumnTransformer\n",
    "from sklearn.pipeline import Pipeline\n",
    "from sklearn.preprocessing import OneHotEncoder\n",
    "from sklearn.preprocessing import OrdinalEncoder\n",
    "from sklearn.preprocessing import StandardScaler\n",
    "from sklearn.impute import SimpleImputer\n",
    "from sklearn.preprocessing import MinMaxScaler\n",
    "from sklearn.experimental import enable_iterative_imputer\n",
    "from sklearn.impute import IterativeImputer\n",
    "from sklearn.ensemble import RandomForestRegressor\n",
    "\n",
    "ordinal_ftrs = ['CMVstatus', 'HLAmatch', 'Antigen', 'Alel', 'HLAgrI'] \n",
    "# CMVstatus: (the higher the value the lower the compatibility)\n",
    "ordinal_cats = [[0,1,2,3,10], [0,1,2,3,10], [-1, 0, 1, 2, 10], [-1, 0, 1, 2, 3, 10], \n",
    "                [0,1,2,3,4,5,6,7, 10]] \n",
    "\n",
    "onehot_ftrs = ['Recipientgender', 'Stemcellsource', 'IIIV',\n",
    "       'Gendermatch', 'DonorABO', 'RecipientABO', 'RecipientRh', 'ABOmatch',\n",
    "       'DonorCMV', 'RecipientCMV', 'Disease', 'Riskgroup',\n",
    "       'Txpostrelapse', 'Diseasegroup', 'HLAmismatch',\n",
    "       'Relapse', 'aGvHDIIIIV', 'extcGvHD',]\n",
    "\n",
    "minmax_ftrs = ['Donorage','Recipientage']\n",
    "\n",
    "std_ftrs = ['CD34kgx10d6', 'CD3dCD34', 'CD3dkgx10d8', 'Rbodymass', 'ANCrecovery', 'PLTrecovery',\n",
    "       'time_to_aGvHD_III_IV']\n",
    "\n",
    "numeric_transformer = Pipeline(steps=[\n",
    "    ('imputer', SimpleImputer(strategy='mean')), \n",
    "    ('scaler', StandardScaler())])\n",
    "categorical_transformer = Pipeline(steps=[    \n",
    "    ('imputer2', SimpleImputer(strategy='constant', fill_value=-10)),    \n",
    "    ('onehot', OneHotEncoder(sparse_output=False,handle_unknown='ignore'))])\n",
    "ordinal_transformer = Pipeline(steps=[\n",
    "    ('imputer3', SimpleImputer(strategy='constant', fill_value=10)),\n",
    "    ('ordinal', OrdinalEncoder(categories = ordinal_cats))])\n",
    "# collect all the encoders\n",
    "preprocessor = ColumnTransformer(\n",
    "    transformers=[\n",
    "        ('onehot', categorical_transformer, onehot_ftrs),\n",
    "        ('ord', ordinal_transformer, ordinal_ftrs),\n",
    "        ('minmax', MinMaxScaler(), minmax_ftrs),\n",
    "        ('std', numeric_transformer, std_ftrs)])\n",
    "\n",
    "clf = Pipeline(steps=[('preprocessor', preprocessor)]) # for now we only preprocess \n",
    "                                                       # later on we will add other steps here\n",
    "\n",
    "X_train_prep = clf.fit_transform(X_train)\n",
    "X_val_prep = clf.transform(X_val)\n",
    "X_test_prep = clf.transform(X_test)\n",
    "\n",
    "print(X_train.shape)\n",
    "print(X_train_prep.shape)\n",
    "print(X_train_prep)\n"
   ]
  }
 ],
 "metadata": {
  "kernelspec": {
   "display_name": "data1030",
   "language": "python",
   "name": "python3"
  },
  "language_info": {
   "codemirror_mode": {
    "name": "ipython",
    "version": 3
   },
   "file_extension": ".py",
   "mimetype": "text/x-python",
   "name": "python",
   "nbconvert_exporter": "python",
   "pygments_lexer": "ipython3",
   "version": "3.12.5"
  }
 },
 "nbformat": 4,
 "nbformat_minor": 2
}
